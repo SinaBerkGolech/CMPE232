{
 "cells": [
  {
   "cell_type": "code",
   "execution_count": 1,
   "metadata": {},
   "outputs": [],
   "source": [
    "import numpy as np\n",
    "import pandas as pd"
   ]
  },
  {
   "cell_type": "code",
   "execution_count": 2,
   "metadata": {},
   "outputs": [],
   "source": [
    "A = \"d a c f f b d b f b e a\".split()"
   ]
  },
  {
   "cell_type": "code",
   "execution_count": 3,
   "metadata": {},
   "outputs": [
    {
     "data": {
      "text/plain": [
       "['d', 'a', 'c', 'f', 'f', 'b', 'd', 'b', 'f', 'b', 'e', 'a']"
      ]
     },
     "execution_count": 3,
     "metadata": {},
     "output_type": "execute_result"
    }
   ],
   "source": [
    "A"
   ]
  },
  {
   "cell_type": "code",
   "execution_count": 21,
   "metadata": {},
   "outputs": [
    {
     "data": {
      "text/plain": [
       "[(0, 'a'), (1, 'b'), (2, 'c'), (3, 'd'), (4, 'e'), (5, 'f')]"
      ]
     },
     "execution_count": 21,
     "metadata": {},
     "output_type": "execute_result"
    }
   ],
   "source": [
    "list(enumerate(\"a b c d e f\".split()))"
   ]
  },
  {
   "cell_type": "code",
   "execution_count": 4,
   "metadata": {},
   "outputs": [
    {
     "data": {
      "text/plain": [
       "{'a': 1, 'b': 2, 'c': 3, 'd': 4, 'e': 5, 'f': 6}"
      ]
     },
     "execution_count": 4,
     "metadata": {},
     "output_type": "execute_result"
    }
   ],
   "source": [
    "val2idx = {ch:idx+1 for idx, ch in enumerate(\"a b c d e f\".split())}\n",
    "val2idx"
   ]
  },
  {
   "cell_type": "code",
   "execution_count": 6,
   "metadata": {},
   "outputs": [
    {
     "data": {
      "text/plain": [
       "2"
      ]
     },
     "execution_count": 6,
     "metadata": {},
     "output_type": "execute_result"
    }
   ],
   "source": [
    "val2idx['b']"
   ]
  },
  {
   "cell_type": "code",
   "execution_count": 7,
   "metadata": {},
   "outputs": [
    {
     "data": {
      "text/plain": [
       "{1: 'a', 2: 'b', 3: 'c', 4: 'd', 5: 'e', 6: 'f'}"
      ]
     },
     "execution_count": 7,
     "metadata": {},
     "output_type": "execute_result"
    }
   ],
   "source": [
    "idx2val = {idx:val for val, idx in val2idx.items()}\n",
    "idx2val"
   ]
  },
  {
   "cell_type": "code",
   "execution_count": 9,
   "metadata": {},
   "outputs": [
    {
     "data": {
      "text/plain": [
       "'b'"
      ]
     },
     "execution_count": 9,
     "metadata": {},
     "output_type": "execute_result"
    }
   ],
   "source": [
    "idx2val[2]"
   ]
  },
  {
   "cell_type": "code",
   "execution_count": 15,
   "metadata": {},
   "outputs": [
    {
     "data": {
      "text/plain": [
       "[0, 0]"
      ]
     },
     "execution_count": 15,
     "metadata": {},
     "output_type": "execute_result"
    }
   ],
   "source": [
    "[0] * 2"
   ]
  },
  {
   "cell_type": "code",
   "execution_count": 31,
   "metadata": {},
   "outputs": [
    {
     "data": {
      "text/plain": [
       "[0, 0, 0, 0, 0, 0, 0]"
      ]
     },
     "execution_count": 31,
     "metadata": {},
     "output_type": "execute_result"
    }
   ],
   "source": [
    "counts = [0] * (len(val2idx) + 1)\n",
    "counts"
   ]
  },
  {
   "cell_type": "code",
   "execution_count": 32,
   "metadata": {},
   "outputs": [
    {
     "data": {
      "text/plain": [
       "['d', 'a', 'c', 'f', 'f', 'b', 'd', 'b', 'f', 'b', 'e', 'a']"
      ]
     },
     "execution_count": 32,
     "metadata": {},
     "output_type": "execute_result"
    }
   ],
   "source": [
    "A"
   ]
  },
  {
   "cell_type": "code",
   "execution_count": 33,
   "metadata": {},
   "outputs": [
    {
     "data": {
      "text/plain": [
       "[0, 2, 3, 1, 2, 1, 3]"
      ]
     },
     "execution_count": 33,
     "metadata": {},
     "output_type": "execute_result"
    }
   ],
   "source": [
    "for ch in A:\n",
    "    ix = val2idx[ch] # 'd' -> 4 .. 'a' -> 1,  ..\n",
    "    counts[ix] += 1\n",
    "counts"
   ]
  },
  {
   "cell_type": "code",
   "execution_count": 34,
   "metadata": {},
   "outputs": [
    {
     "data": {
      "text/plain": [
       "[0, 2, 3, 1, 2, 1, 3]"
      ]
     },
     "execution_count": 34,
     "metadata": {},
     "output_type": "execute_result"
    }
   ],
   "source": [
    "cum = counts\n",
    "cum "
   ]
  },
  {
   "cell_type": "code",
   "execution_count": 35,
   "metadata": {},
   "outputs": [
    {
     "data": {
      "text/plain": [
       "7"
      ]
     },
     "execution_count": 35,
     "metadata": {},
     "output_type": "execute_result"
    }
   ],
   "source": [
    "len(cum)"
   ]
  },
  {
   "cell_type": "code",
   "execution_count": 36,
   "metadata": {},
   "outputs": [
    {
     "data": {
      "text/plain": [
       "[0, 2, 5, 6, 8, 9, 12]"
      ]
     },
     "execution_count": 36,
     "metadata": {},
     "output_type": "execute_result"
    }
   ],
   "source": [
    "for i in range(1, len(cum)):\n",
    "    cum[i] =  cum[i] + cum[i-1]\n",
    "cum "
   ]
  },
  {
   "cell_type": "code",
   "execution_count": 30,
   "metadata": {},
   "outputs": [
    {
     "data": {
      "text/plain": [
       "[0, 0, 0, 0, 0, 0, 0, 0, 0, 0, 0, 0]"
      ]
     },
     "execution_count": 30,
     "metadata": {},
     "output_type": "execute_result"
    }
   ],
   "source": [
    "aux = [0] * len(A)\n",
    "aux"
   ]
  },
  {
   "cell_type": "code",
   "execution_count": 42,
   "metadata": {},
   "outputs": [
    {
     "name": "stdout",
     "output_type": "stream",
     "text": [
      "0   2\n",
      "2   5\n",
      "5   6\n",
      "6   8\n",
      "8   9\n",
      "9   12\n"
     ]
    }
   ],
   "source": [
    "for i in range(len(cum)-1):\n",
    "    start = cum[i]\n",
    "    end = cum[i+1]\n",
    "    print(start, \" \", end)\n",
    "    if start == end: continue\n",
    "    for j in range(start, end):\n",
    "        aux[j] = idx2val[i+1]"
   ]
  },
  {
   "cell_type": "code",
   "execution_count": 38,
   "metadata": {},
   "outputs": [
    {
     "data": {
      "text/plain": [
       "[0, 1]"
      ]
     },
     "execution_count": 38,
     "metadata": {},
     "output_type": "execute_result"
    }
   ],
   "source": [
    "list(range(0, 2))"
   ]
  },
  {
   "cell_type": "code",
   "execution_count": 43,
   "metadata": {},
   "outputs": [
    {
     "data": {
      "text/plain": [
       "['a', 'a', 'b', 'b', 'b', 'c', 'd', 'd', 'e', 'f', 'f', 'f']"
      ]
     },
     "execution_count": 43,
     "metadata": {},
     "output_type": "execute_result"
    }
   ],
   "source": [
    "aux"
   ]
  },
  {
   "cell_type": "markdown",
   "metadata": {},
   "source": [
    "# Functionalize the code\n",
    " - Sorting without compararsions"
   ]
  },
  {
   "cell_type": "code",
   "execution_count": 46,
   "metadata": {},
   "outputs": [],
   "source": [
    "# array to be sorted\n",
    "A = \"d a c f f b d b f b e a\".split()\n",
    "\n",
    "# dictioanry to map characters to indexs: {'a': 1, 'b': 2, 'c': 3, 'd': 4, 'e': 5, 'f': 6}\n",
    "val2idx = {ch:idx+1 for idx, ch in enumerate(\"a b c d e f\".split())}\n",
    "idx2val = {idx:val for val, idx in val2idx.items()}\n",
    "\n",
    "# store frequencies : [0, 2, 3, 1, 2, 1, 3]\n",
    "counts = [0] * (len(val2idx) + 1)\n",
    "for ch in A:\n",
    "    ix = val2idx[ch] # 'd' -> 4 .. 'a' -> 1,  ..\n",
    "    counts[ix] += 1\n",
    "\n",
    "# computer cumulative counts: [0, 2, 5, 6, 8, 9, 12]\n",
    "for i in range(1, len(counts)):\n",
    "    counts[i] =  counts[i] + counts[i-1]\n",
    "\n",
    "# distribute counts acc to order\n",
    "aux = [0] * len(A)\n",
    "for i in range(len(counts)-1):\n",
    "    start, end = counts[i], counts[i+1]\n",
    "    for j in range(start, end):\n",
    "        aux[j] = idx2val[i+1]"
   ]
  },
  {
   "cell_type": "code",
   "execution_count": 47,
   "metadata": {},
   "outputs": [
    {
     "name": "stdout",
     "output_type": "stream",
     "text": [
      "Original array: ['d', 'a', 'c', 'f', 'f', 'b', 'd', 'b', 'f', 'b', 'e', 'a']\n",
      "Sorted   array: ['a', 'a', 'b', 'b', 'b', 'c', 'd', 'd', 'e', 'f', 'f', 'f']\n"
     ]
    }
   ],
   "source": [
    "print(\"Original array: {}\".format(A))\n",
    "print(\"Sorted   array: {}\".format(aux))"
   ]
  },
  {
   "cell_type": "code",
   "execution_count": 52,
   "metadata": {},
   "outputs": [],
   "source": [
    "def keyIndexedCounting(A = \"d a c f f b d b f b e a\".split(), order = \"a b c d e f\".split()):\n",
    "    # dictioanry to map characters to indexs: {'a': 1, 'b': 2, 'c': 3, 'd': 4, 'e': 5, 'f': 6}\n",
    "    val2idx = {ch:idx+1 for idx, ch in enumerate(order)}\n",
    "    idx2val = {idx:val for val, idx in val2idx.items()}\n",
    "\n",
    "    # store frequencies : [0, 2, 3, 1, 2, 1, 3]\n",
    "    counts = [0] * (len(val2idx) + 1)\n",
    "    for ch in A:\n",
    "        ix = val2idx[ch] # 'd' -> 4 .. 'a' -> 1,  ..\n",
    "        counts[ix] += 1\n",
    "\n",
    "    # computer cumulative counts: [0, 2, 5, 6, 8, 9, 12]\n",
    "    for i in range(1, len(counts)):\n",
    "        counts[i] =  counts[i] + counts[i-1]\n",
    "\n",
    "    # distribute counts acc to order\n",
    "    aux = [0] * len(A)\n",
    "    for i in range(len(counts)-1):\n",
    "        start, end = counts[i], counts[i+1]\n",
    "        for j in range(start, end):\n",
    "            aux[j] = idx2val[i+1]\n",
    "    return aux"
   ]
  },
  {
   "cell_type": "code",
   "execution_count": 53,
   "metadata": {},
   "outputs": [
    {
     "data": {
      "text/plain": [
       "['a', 'a', 'b', 'c', 'd', 'd']"
      ]
     },
     "execution_count": 53,
     "metadata": {},
     "output_type": "execute_result"
    }
   ],
   "source": [
    "keyIndexedCounting(A = \"d a c d a b\".split(), order = \"a b c d\".split())"
   ]
  },
  {
   "cell_type": "markdown",
   "metadata": {},
   "source": [
    "# Least Significant first - String Sort"
   ]
  },
  {
   "cell_type": "code",
   "execution_count": 86,
   "metadata": {},
   "outputs": [
    {
     "data": {
      "text/plain": [
       "['aba', 'baa', 'bbb', 'aaa']"
      ]
     },
     "execution_count": 86,
     "metadata": {},
     "output_type": "execute_result"
    }
   ],
   "source": [
    "strings = \"aba baa bbb aaa\".split()\n",
    "strings"
   ]
  },
  {
   "cell_type": "code",
   "execution_count": 87,
   "metadata": {},
   "outputs": [],
   "source": [
    "def keyIndexedCounting2(A = \"d a c f f b d b f b e a\".split(), order = \"a b c d e f\".split()):\n",
    "    # dictioanry to map characters to indexs: {'a': 1, 'b': 2, 'c': 3, 'd': 4, 'e': 5, 'f': 6}\n",
    "    val2idx = {ch:idx+1 for idx, ch in enumerate(order)}\n",
    "    idx2val = {idx:val for val, idx in val2idx.items()}\n",
    "\n",
    "    # Radix: Number of letters\n",
    "    R = len(val2idx)\n",
    "    \n",
    "    # store frequencies : [0, 2, 3, 1, 2, 1, 3]\n",
    "    counts = [0] * (R + 1)\n",
    "    for ch in A:\n",
    "        ix = val2idx[ch] # 'd' -> 4 .. 'a' -> 1,  ..\n",
    "        counts[ix] += 1\n",
    "\n",
    "    # computer cumulative counts: [0, 2, 5, 6, 8, 9, 12]\n",
    "    for i in range(1, R +1):\n",
    "        counts[i] =  counts[i] + counts[i-1]\n",
    "\n",
    "    # distribute counts acc to order\n",
    "    aux = [0] * len(A)\n",
    "    for a in A:\n",
    "        place = counts[val2idx[a]-1]\n",
    "        aux[place] = a\n",
    "        counts[val2idx[a]-1] += 1\n",
    "    return aux"
   ]
  },
  {
   "cell_type": "code",
   "execution_count": 88,
   "metadata": {},
   "outputs": [
    {
     "data": {
      "text/plain": [
       "['a', 'a', 'a', 'b', 'b', 'b', 'c', 'd', 'd']"
      ]
     },
     "execution_count": 88,
     "metadata": {},
     "output_type": "execute_result"
    }
   ],
   "source": [
    "keyIndexedCounting2(A = \"d a a b b c d a b\".split(), order = \"a b c d\".split())"
   ]
  },
  {
   "cell_type": "code",
   "execution_count": 89,
   "metadata": {},
   "outputs": [
    {
     "data": {
      "text/plain": [
       "['aba', 'baa', 'bbb', 'aaa']"
      ]
     },
     "execution_count": 89,
     "metadata": {},
     "output_type": "execute_result"
    }
   ],
   "source": [
    "strings"
   ]
  },
  {
   "cell_type": "code",
   "execution_count": 90,
   "metadata": {},
   "outputs": [
    {
     "data": {
      "text/plain": [
       "['a', 'a', 'b', 'a']"
      ]
     },
     "execution_count": 90,
     "metadata": {},
     "output_type": "execute_result"
    }
   ],
   "source": [
    "values = [s[-1] for s in strings]\n",
    "values"
   ]
  },
  {
   "cell_type": "code",
   "execution_count": 91,
   "metadata": {},
   "outputs": [
    {
     "data": {
      "text/plain": [
       "['a', 'a', 'a', 'b']"
      ]
     },
     "execution_count": 91,
     "metadata": {},
     "output_type": "execute_result"
    }
   ],
   "source": [
    "keyIndexedCounting2(A = values, order = \"a b\".split())"
   ]
  },
  {
   "cell_type": "code",
   "execution_count": 92,
   "metadata": {},
   "outputs": [
    {
     "data": {
      "text/plain": [
       "['b', 'a', 'b', 'a']"
      ]
     },
     "execution_count": 92,
     "metadata": {},
     "output_type": "execute_result"
    }
   ],
   "source": [
    "values = [s[-2] for s in strings]\n",
    "values"
   ]
  },
  {
   "cell_type": "code",
   "execution_count": 93,
   "metadata": {},
   "outputs": [
    {
     "data": {
      "text/plain": [
       "['a', 'a', 'b', 'b']"
      ]
     },
     "execution_count": 93,
     "metadata": {},
     "output_type": "execute_result"
    }
   ],
   "source": [
    "keyIndexedCounting2(A = values, order = \"a b\".split())"
   ]
  },
  {
   "cell_type": "code",
   "execution_count": 94,
   "metadata": {},
   "outputs": [],
   "source": [
    "def keyIndexedCounting3(strings = \"aba baa bbb aaa\".split(), i = -1, order = \"a b c d e f\".split()):\n",
    "    # dictioanry to map characters to indexs: {'a': 1, 'b': 2, 'c': 3, 'd': 4, 'e': 5, 'f': 6}\n",
    "    val2idx = {ch:idx+1 for idx, ch in enumerate(order)}\n",
    "    idx2val = {idx:val for val, idx in val2idx.items()}\n",
    "\n",
    "    # key Indexed Counting Array\n",
    "    A = [s[i] for s in strings]\n",
    "    \n",
    "    # Radix: Number of letters\n",
    "    R = len(val2idx)\n",
    "    N = len(A)\n",
    "    \n",
    "    # store frequencies : [0, 2, 3, 1, 2, 1, 3]\n",
    "    counts = [0] * (R + 1)\n",
    "    for ch in A:\n",
    "        ix = val2idx[ch] # 'd' -> 4 .. 'a' -> 1,  ..\n",
    "        counts[ix] += 1\n",
    "\n",
    "    # computer cumulative counts: [0, 2, 5, 6, 8, 9, 12]\n",
    "    for i in range(1, R +1):\n",
    "        counts[i] =  counts[i] + counts[i-1]\n",
    "\n",
    "    # distribute counts acc to order\n",
    "    aux = [0] * N\n",
    "    for i in range(N):\n",
    "        a = A[i]\n",
    "        place = counts[val2idx[a]-1]\n",
    "        aux[place] = strings[i]\n",
    "        counts[val2idx[a]-1] += 1\n",
    "    return aux"
   ]
  },
  {
   "cell_type": "code",
   "execution_count": 99,
   "metadata": {},
   "outputs": [
    {
     "data": {
      "text/plain": [
       "['aba', 'baa', 'bbb', 'aaa']"
      ]
     },
     "execution_count": 99,
     "metadata": {},
     "output_type": "execute_result"
    }
   ],
   "source": [
    "strings = \"aba baa bbb aaa\".split()\n",
    "strings"
   ]
  },
  {
   "cell_type": "code",
   "execution_count": 100,
   "metadata": {},
   "outputs": [
    {
     "data": {
      "text/plain": [
       "['aba', 'baa', 'aaa', 'bbb']"
      ]
     },
     "execution_count": 100,
     "metadata": {},
     "output_type": "execute_result"
    }
   ],
   "source": [
    "strings = keyIndexedCounting3(strings = strings, i = -1, order = \"a b c d e f\".split())\n",
    "strings"
   ]
  },
  {
   "cell_type": "code",
   "execution_count": 101,
   "metadata": {},
   "outputs": [
    {
     "data": {
      "text/plain": [
       "['baa', 'aaa', 'aba', 'bbb']"
      ]
     },
     "execution_count": 101,
     "metadata": {},
     "output_type": "execute_result"
    }
   ],
   "source": [
    "strings = keyIndexedCounting3(strings = strings, i = -2, order = \"a b c d e f\".split())\n",
    "strings"
   ]
  },
  {
   "cell_type": "code",
   "execution_count": 102,
   "metadata": {},
   "outputs": [
    {
     "data": {
      "text/plain": [
       "['aaa', 'aba', 'baa', 'bbb']"
      ]
     },
     "execution_count": 102,
     "metadata": {},
     "output_type": "execute_result"
    }
   ],
   "source": [
    "strings = keyIndexedCounting3(strings = strings, i = -3, order = \"a b c d e f\".split())\n",
    "strings"
   ]
  },
  {
   "cell_type": "code",
   "execution_count": 107,
   "metadata": {},
   "outputs": [],
   "source": [
    "def radixsort(A, order):\n",
    "    M = len(strings[0])\n",
    "    for i in range(M):\n",
    "        A = keyIndexedCounting3(strings = A, i = -i, order = order)\n",
    "    return A"
   ]
  },
  {
   "cell_type": "code",
   "execution_count": 108,
   "metadata": {},
   "outputs": [
    {
     "data": {
      "text/plain": [
       "['aa', 'ab', 'bc', 'ca', 'cc']"
      ]
     },
     "execution_count": 108,
     "metadata": {},
     "output_type": "execute_result"
    }
   ],
   "source": [
    "radixsort(A = ['cc','aa','ca','ab','bc'], order = ['a','b', 'c'])"
   ]
  },
  {
   "cell_type": "markdown",
   "metadata": {},
   "source": [
    "# Most Significant Digit String Sort"
   ]
  },
  {
   "cell_type": "code",
   "execution_count": 213,
   "metadata": {},
   "outputs": [],
   "source": [
    "def keyIndexedCounting4(strings = \"aba baa bbb aaa\".split(), \n",
    "                        i = -1,\n",
    "                        low = 0,\n",
    "                        high = len(strings),\n",
    "                        order = \"a b c d e f\".split()):\n",
    "    # dictioanry to map characters to indexs: {'a': 1, 'b': 2, 'c': 3, 'd': 4, 'e': 5, 'f': 6}\n",
    "    val2idx = {ch:idx+1 for idx, ch in enumerate(order)}\n",
    "    idx2val = {idx:val for val, idx in val2idx.items()}\n",
    "\n",
    "    # key Indexed Counting Array\n",
    "    A = [s[i] for s in strings[low:high]]  ############ low:high !!\n",
    "    \n",
    "    # Radix: Number of letters\n",
    "    R = len(val2idx)\n",
    "    N = len(A)\n",
    "    \n",
    "    # store frequencies : [0, 2, 3, 1, 2, 1, 3]\n",
    "    counts = [0] * (R + 1)\n",
    "    for ch in A:\n",
    "        ix = val2idx[ch] # 'd' -> 4 .. 'a' -> 1,  ..\n",
    "        counts[ix] += 1\n",
    "\n",
    "    # computer cumulative counts: [0, 2, 5, 6, 8, 9, 12]\n",
    "    for i in range(1, R +1):\n",
    "        counts[i] =  counts[i] + counts[i-1]\n",
    "\n",
    "    # distribute counts acc to order\n",
    "    aux = [0] * N\n",
    "    for i in range(low, high):\n",
    "        a = A[i-low] ############ i-low !!\n",
    "        place = counts[val2idx[a]-1]\n",
    "        aux[place] = strings[i]\n",
    "        counts[val2idx[a]-1] += 1\n",
    "    return aux"
   ]
  },
  {
   "cell_type": "code",
   "execution_count": 222,
   "metadata": {},
   "outputs": [
    {
     "data": {
      "text/plain": [
       "['bbb', 'cba', 'caa', 'baa']"
      ]
     },
     "execution_count": 222,
     "metadata": {},
     "output_type": "execute_result"
    }
   ],
   "source": [
    "strings = ['bbb', 'cba', 'caa','baa']\n",
    "strings"
   ]
  },
  {
   "cell_type": "code",
   "execution_count": 223,
   "metadata": {},
   "outputs": [
    {
     "data": {
      "text/plain": [
       "['bbb', 'baa', 'cba', 'caa']"
      ]
     },
     "execution_count": 223,
     "metadata": {},
     "output_type": "execute_result"
    }
   ],
   "source": [
    "strings = keyIndexedCounting4(strings = strings, i = 0,low = 0, high = len(strings), order = \"a b c\".split())\n",
    "strings"
   ]
  },
  {
   "cell_type": "code",
   "execution_count": 224,
   "metadata": {},
   "outputs": [
    {
     "data": {
      "text/plain": [
       "['baa', 'bbb']"
      ]
     },
     "execution_count": 224,
     "metadata": {},
     "output_type": "execute_result"
    }
   ],
   "source": [
    "keyIndexedCounting4(strings = strings, i = 1,low = 0, high = 2, order = \"a b c\".split())"
   ]
  },
  {
   "cell_type": "code",
   "execution_count": 225,
   "metadata": {},
   "outputs": [
    {
     "data": {
      "text/plain": [
       "['caa', 'cba']"
      ]
     },
     "execution_count": 225,
     "metadata": {},
     "output_type": "execute_result"
    }
   ],
   "source": [
    "keyIndexedCounting4(strings = strings, i = 1, low = 2, high = 4, order = \"a b c\".split())"
   ]
  },
  {
   "cell_type": "code",
   "execution_count": null,
   "metadata": {},
   "outputs": [],
   "source": []
  }
 ],
 "metadata": {
  "kernelspec": {
   "display_name": "Python 3",
   "language": "python",
   "name": "python3"
  },
  "language_info": {
   "codemirror_mode": {
    "name": "ipython",
    "version": 3
   },
   "file_extension": ".py",
   "mimetype": "text/x-python",
   "name": "python",
   "nbconvert_exporter": "python",
   "pygments_lexer": "ipython3",
   "version": "3.6.7"
  }
 },
 "nbformat": 4,
 "nbformat_minor": 2
}
