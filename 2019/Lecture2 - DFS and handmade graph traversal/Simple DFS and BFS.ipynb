{
 "cells": [
  {
   "cell_type": "code",
   "execution_count": 1,
   "metadata": {
    "collapsed": true
   },
   "outputs": [],
   "source": [
    "import warnings\n",
    "warnings.filterwarnings('ignore')\n",
    "\n",
    "import networkx as nx\n",
    "import matplotlib.pyplot as plt\n",
    "%matplotlib inline"
   ]
  },
  {
   "cell_type": "code",
   "execution_count": 2,
   "metadata": {
    "collapsed": true
   },
   "outputs": [],
   "source": [
    "class node():\n",
    "    def __init__(self, name):\n",
    "        self.name = name\n",
    "        self.neighbors = []\n",
    "        self.visited = False\n",
    "        self.prev = None"
   ]
  },
  {
   "cell_type": "code",
   "execution_count": 5,
   "metadata": {
    "collapsed": true
   },
   "outputs": [],
   "source": [
    "class DFS():\n",
    "    def dfs(self, s):\n",
    "        s.visited = True\n",
    "        print(\"%s \" % s.name);\n",
    "        for neighbor in s.neighbors:\n",
    "            if not neighbor.visited:\n",
    "                self.dfs(neighbor)\n",
    "        "
   ]
  },
  {
   "cell_type": "code",
   "execution_count": 6,
   "metadata": {
    "collapsed": true
   },
   "outputs": [],
   "source": [
    "nodeA = node(\"A\");\n",
    "nodeB = node(\"B\");\n",
    "nodeC = node(\"C\");\n",
    "nodeD = node(\"D\");\n",
    "nodeE = node(\"E\");\n",
    "\n",
    "nodeF = node(\"F\");\n",
    "nodeG = node(\"G\");\n",
    "\n",
    "\n",
    "\n",
    "nodeA.neighbors.append(nodeB);\n",
    "nodeA.neighbors.append(nodeC);\n",
    "nodeB.neighbors.append(nodeD);\n",
    "nodeD.neighbors.append(nodeE);\n",
    "\n",
    "nodeC.neighbors.append(nodeF);\n",
    "nodeC.neighbors.append(nodeG);"
   ]
  },
  {
   "cell_type": "code",
   "execution_count": 7,
   "metadata": {},
   "outputs": [
    {
     "name": "stdout",
     "output_type": "stream",
     "text": [
      "A \n",
      "B \n",
      "D \n",
      "E \n",
      "C \n",
      "F \n",
      "G \n"
     ]
    }
   ],
   "source": [
    "dfs = DFS();\n",
    "dfs.dfs(nodeA);"
   ]
  },
  {
   "cell_type": "code",
   "execution_count": 8,
   "metadata": {
    "collapsed": true
   },
   "outputs": [],
   "source": [
    "class node():\n",
    "    def __init__(self, name):\n",
    "        self.name = name\n",
    "        self.neighbors = []\n",
    "        self.visited = False\n",
    "        self.prev = None\n",
    "\n",
    "class DFS():\n",
    "    def __init__(self):\n",
    "        self.traversal = []\n",
    "    def dfs(self, s):\n",
    "        s.visited = True\n",
    "        self.traversal.append(s.name)\n",
    "        for neighbor in s.neighbors:\n",
    "            if not neighbor.visited:\n",
    "                self.dfs(neighbor)\n",
    "        "
   ]
  },
  {
   "cell_type": "code",
   "execution_count": 9,
   "metadata": {
    "collapsed": true
   },
   "outputs": [],
   "source": [
    "nodeA = node(\"A\");\n",
    "nodeB = node(\"B\");\n",
    "nodeC = node(\"C\");\n",
    "nodeD = node(\"D\");\n",
    "nodeE = node(\"E\");\n",
    "\n",
    "nodeF = node(\"F\");\n",
    "nodeG = node(\"G\");\n",
    "\n",
    "\n",
    "\n",
    "nodeA.neighbors.append(nodeB);\n",
    "nodeA.neighbors.append(nodeC);\n",
    "nodeB.neighbors.append(nodeD);\n",
    "nodeD.neighbors.append(nodeE);\n",
    "\n",
    "nodeC.neighbors.append(nodeF);\n",
    "nodeC.neighbors.append(nodeG);"
   ]
  },
  {
   "cell_type": "code",
   "execution_count": 10,
   "metadata": {
    "collapsed": true
   },
   "outputs": [],
   "source": [
    "dfs = DFS();\n",
    "dfs.dfs(nodeA);"
   ]
  },
  {
   "cell_type": "code",
   "execution_count": 11,
   "metadata": {},
   "outputs": [
    {
     "data": {
      "text/plain": [
       "['A', 'B', 'D', 'E', 'C', 'F', 'G']"
      ]
     },
     "execution_count": 11,
     "metadata": {},
     "output_type": "execute_result"
    }
   ],
   "source": [
    "dfs.traversal"
   ]
  },
  {
   "cell_type": "markdown",
   "metadata": {},
   "source": [
    "## BFS"
   ]
  },
  {
   "cell_type": "code",
   "execution_count": 14,
   "metadata": {
    "collapsed": true
   },
   "outputs": [],
   "source": [
    "class BreadthFirstSearch():\n",
    "    def __init__(self):\n",
    "        self.queue = []\n",
    "        self.traversal = []\n",
    "    \n",
    "    def bfs(self, s):\n",
    "        self.queue.append(s)\n",
    "        s.visited = True\n",
    "        self.traversal.append(s.name)\n",
    "        \n",
    "        while len(self.queue) != 0:\n",
    "            v = self.queue.pop(0)\n",
    "            \n",
    "            for neighbor in v.neighbors:\n",
    "                if not neighbor.visited:\n",
    "                    self.queue.append(neighbor)\n",
    "                    neighbor.visited = True\n",
    "                    \n",
    "                    self.traversal.append(neighbor.name)\n",
    "                    neighbor.prev = v\n",
    "        "
   ]
  },
  {
   "cell_type": "code",
   "execution_count": 15,
   "metadata": {
    "collapsed": true
   },
   "outputs": [],
   "source": [
    "nodeA = node(\"A\");\n",
    "nodeB = node(\"B\");\n",
    "nodeC = node(\"C\");\n",
    "nodeD = node(\"D\");\n",
    "nodeE = node(\"E\");\n",
    "\n",
    "nodeF = node(\"F\");\n",
    "nodeG = node(\"G\");\n",
    "\n",
    "\n",
    "\n",
    "nodeA.neighbors.append(nodeB);\n",
    "nodeA.neighbors.append(nodeC);\n",
    "nodeB.neighbors.append(nodeD);\n",
    "nodeD.neighbors.append(nodeE);\n",
    "\n",
    "nodeC.neighbors.append(nodeF);\n",
    "nodeC.neighbors.append(nodeG);\n",
    "\n",
    "bfs = BreadthFirstSearch();\n",
    "bfs.bfs(nodeA);"
   ]
  },
  {
   "cell_type": "code",
   "execution_count": 16,
   "metadata": {},
   "outputs": [
    {
     "data": {
      "text/plain": [
       "['A', 'B', 'C', 'D', 'F', 'G', 'E']"
      ]
     },
     "execution_count": 16,
     "metadata": {},
     "output_type": "execute_result"
    }
   ],
   "source": [
    "bfs.traversal"
   ]
  },
  {
   "cell_type": "code",
   "execution_count": null,
   "metadata": {
    "collapsed": true
   },
   "outputs": [],
   "source": []
  }
 ],
 "metadata": {
  "kernelspec": {
   "display_name": "Python 3",
   "language": "python",
   "name": "python3"
  },
  "language_info": {
   "codemirror_mode": {
    "name": "ipython",
    "version": 3
   },
   "file_extension": ".py",
   "mimetype": "text/x-python",
   "name": "python",
   "nbconvert_exporter": "python",
   "pygments_lexer": "ipython3",
   "version": "3.6.1"
  }
 },
 "nbformat": 4,
 "nbformat_minor": 2
}
