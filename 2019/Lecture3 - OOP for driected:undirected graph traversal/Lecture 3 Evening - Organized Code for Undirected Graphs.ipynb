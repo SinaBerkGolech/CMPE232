{
 "cells": [
  {
   "cell_type": "code",
   "execution_count": 1,
   "metadata": {
    "collapsed": true
   },
   "outputs": [],
   "source": [
    "import warnings\n",
    "warnings.filterwarnings('ignore')\n",
    "\n",
    "import networkx as nx\n",
    "import matplotlib.pyplot as plt\n",
    "%matplotlib inline"
   ]
  },
  {
   "cell_type": "code",
   "execution_count": 10,
   "metadata": {
    "collapsed": true
   },
   "outputs": [],
   "source": [
    "# Self is my enemy\n",
    "\n",
    "class node():\n",
    "    def __init__(self, node_name):\n",
    "        self.node_name = node_name  # name type is string\n",
    "        self.neigbors = []          # neighbors are nodes (not node names)\n",
    "        \n",
    "    def neighbor_names(self):\n",
    "        return [node.node_name for node in self.neigbors]    \n",
    "    \n",
    "    \n",
    "class graph():\n",
    "    def __init__(self, elist):\n",
    "        self.elist = elist\n",
    "\n",
    "        sources = [s for s,t in elist]\n",
    "        targets = [t for s,t in elist]\n",
    "\n",
    "        self.node_names = list(set(sources + targets))\n",
    "        self.nodes = {node_name:node(node_name) for node_name in self.node_names}\n",
    "        \n",
    "        self.create_graph()\n",
    "\n",
    "    def add_edge(self, sname, tname):\n",
    "        self.nodes[sname].neigbors.append(self.nodes[tname])\n",
    "        self.nodes[tname].neigbors.append(self.nodes[sname])\n",
    "        \n",
    "    def create_graph(self):\n",
    "        for s, t in self.elist:\n",
    "            self.add_edge(s,t)\n",
    "            \n",
    "    def info(self):\n",
    "        return {node_name: self.nodes[node_name].neighbor_names() for node_name in self.node_names}\n",
    "    \n",
    "    def draw(self, color = 'lightblue'):\n",
    "        \"\"\"\n",
    "            Usage of networkx for visualisation\n",
    "        \"\"\"\n",
    "        G = nx.Graph()\n",
    "        G.add_edges_from(self.elist)\n",
    "        plt.figure(figsize=(20,8))\n",
    "        nx.draw(G, node_size=2000, node_color=color, with_labels=True)\n",
    "       \n",
    "        "
   ]
  },
  {
   "cell_type": "code",
   "execution_count": 11,
   "metadata": {
    "collapsed": true
   },
   "outputs": [],
   "source": [
    "elist = \"\"\"\n",
    "0 5\n",
    "4 3\n",
    "0 1\n",
    "9 12\n",
    "6 4\n",
    "5 4\n",
    "0 2\n",
    "11 12\n",
    "9 10\n",
    "0 6\n",
    "7 8\n",
    "9 11\n",
    "5 3\n",
    "\"\"\"\n",
    "\n",
    "elist = [tuple(line.split(' ')) for line in elist.split('\\n') if line != '']"
   ]
  },
  {
   "cell_type": "code",
   "execution_count": 12,
   "metadata": {},
   "outputs": [
    {
     "data": {
      "text/plain": [
       "[('0', '5'),\n",
       " ('4', '3'),\n",
       " ('0', '1'),\n",
       " ('9', '12'),\n",
       " ('6', '4'),\n",
       " ('5', '4'),\n",
       " ('0', '2'),\n",
       " ('11', '12'),\n",
       " ('9', '10'),\n",
       " ('0', '6'),\n",
       " ('7', '8'),\n",
       " ('9', '11'),\n",
       " ('5', '3')]"
      ]
     },
     "execution_count": 12,
     "metadata": {},
     "output_type": "execute_result"
    }
   ],
   "source": [
    "elist"
   ]
  },
  {
   "cell_type": "code",
   "execution_count": 13,
   "metadata": {
    "collapsed": true
   },
   "outputs": [],
   "source": [
    "G = graph(elist)"
   ]
  },
  {
   "cell_type": "code",
   "execution_count": 14,
   "metadata": {},
   "outputs": [
    {
     "data": {
      "text/plain": [
       "['0', '10', '7', '2', '8', '11', '4', '5', '1', '12', '3', '9', '6']"
      ]
     },
     "execution_count": 14,
     "metadata": {},
     "output_type": "execute_result"
    }
   ],
   "source": [
    "G.node_names"
   ]
  },
  {
   "cell_type": "code",
   "execution_count": 15,
   "metadata": {},
   "outputs": [
    {
     "data": {
      "text/plain": [
       "['12', '10', '11']"
      ]
     },
     "execution_count": 15,
     "metadata": {},
     "output_type": "execute_result"
    }
   ],
   "source": [
    "G.nodes['9'].neighbor_names()"
   ]
  },
  {
   "cell_type": "code",
   "execution_count": 16,
   "metadata": {},
   "outputs": [
    {
     "data": {
      "text/plain": [
       "{'0': ['5', '1', '2', '6'],\n",
       " '10': ['9'],\n",
       " '7': ['8'],\n",
       " '2': ['0'],\n",
       " '8': ['7'],\n",
       " '11': ['12', '9'],\n",
       " '4': ['3', '6', '5'],\n",
       " '5': ['0', '4', '3'],\n",
       " '1': ['0'],\n",
       " '12': ['9', '11'],\n",
       " '3': ['4', '5'],\n",
       " '9': ['12', '10', '11'],\n",
       " '6': ['4', '0']}"
      ]
     },
     "execution_count": 16,
     "metadata": {},
     "output_type": "execute_result"
    }
   ],
   "source": [
    "G.info()"
   ]
  },
  {
   "cell_type": "code",
   "execution_count": 18,
   "metadata": {},
   "outputs": [
    {
     "data": {
      "image/png": "[encoded data removed]",
      "text/plain": [
       "<Figure size 1440x576 with 1 Axes>"
      ]
     },
     "metadata": {},
     "output_type": "display_data"
    }
   ],
   "source": [
    "G.draw()"
   ]
  },
  {
   "cell_type": "markdown",
   "metadata": {},
   "source": [
    "# Anouncement\n",
    " - Mudek `4 March at 15:30`\n",
    " - People from YOK wants to talk with our beloved students :)\n",
    " - Come and tell how we are `happy` with our program"
   ]
  },
  {
   "cell_type": "code",
   "execution_count": 83,
   "metadata": {
    "collapsed": true
   },
   "outputs": [],
   "source": [
    "class DFS():\n",
    "    def __init__(self, G):\n",
    "        self.G = G\n",
    "        self.visited = {node_name: False for node_name in G.node_names}\n",
    "        self.traversal = []\n",
    "        \n",
    "    def dfs(self, sname):\n",
    "        self.visited[sname] = True\n",
    "        self.traversal.append(sname)\n",
    "            \n",
    "        for neighbor_name in self.G.nodes[sname].neighbor_names():\n",
    "            if not self.visited[neighbor_name]:\n",
    "                self.dfs(neighbor_name)"
   ]
  },
  {
   "cell_type": "code",
   "execution_count": 84,
   "metadata": {
    "collapsed": true
   },
   "outputs": [],
   "source": [
    "search = DFS(G)"
   ]
  },
  {
   "cell_type": "code",
   "execution_count": 85,
   "metadata": {
    "collapsed": true
   },
   "outputs": [],
   "source": [
    "search.dfs('0')"
   ]
  },
  {
   "cell_type": "code",
   "execution_count": 86,
   "metadata": {},
   "outputs": [
    {
     "data": {
      "text/plain": [
       "['0', '5', '4', '3', '6', '1', '2']"
      ]
     },
     "execution_count": 86,
     "metadata": {},
     "output_type": "execute_result"
    }
   ],
   "source": [
    "search.traversal"
   ]
  },
  {
   "cell_type": "code",
   "execution_count": 91,
   "metadata": {
    "collapsed": true
   },
   "outputs": [],
   "source": [
    "simple_elist = [('A', 'C'),('C', 'E'),('A', 'B')]\n",
    "simple_graph = graph(simple_elist)\n",
    "simple_search = DFS(simple_graph)\n",
    "simple_search.dfs('A')\n",
    "#simple_search.traversal"
   ]
  },
  {
   "cell_type": "code",
   "execution_count": 92,
   "metadata": {},
   "outputs": [
    {
     "data": {
      "text/plain": [
       "{'C': ['A', 'E'], 'A': ['C', 'B'], 'B': ['A'], 'E': ['C']}"
      ]
     },
     "execution_count": 92,
     "metadata": {},
     "output_type": "execute_result"
    }
   ],
   "source": [
    "simple_graph.info()"
   ]
  },
  {
   "cell_type": "code",
   "execution_count": 93,
   "metadata": {},
   "outputs": [
    {
     "data": {
      "text/plain": [
       "['A', 'C', 'E', 'B']"
      ]
     },
     "execution_count": 93,
     "metadata": {},
     "output_type": "execute_result"
    }
   ],
   "source": [
    "simple_search.traversal"
   ]
  },
  {
   "cell_type": "markdown",
   "metadata": {},
   "source": [
    "# Connected Component"
   ]
  },
  {
   "cell_type": "code",
   "execution_count": 106,
   "metadata": {
    "collapsed": true
   },
   "outputs": [],
   "source": [
    "class ConnectedComponent():\n",
    "    def __init__(self, G):\n",
    "        self.G = G\n",
    "        self.visited = {node_name: False for node_name in G.node_names}\n",
    "        self.id = {}\n",
    "        \n",
    "        self.count = 0\n",
    "        \n",
    "        for node_name in self.G.node_names:\n",
    "            if not self.visited[node_name]:\n",
    "                self.dfs(node_name)\n",
    "                self.count += 1\n",
    "                \n",
    "    def dfs(self, sname):\n",
    "        self.visited[sname] = True\n",
    "        self.id[sname] = self.count\n",
    "        \n",
    "        for neighbor_name in self.G.nodes[sname].neighbor_names():\n",
    "            if not self.visited[neighbor_name]:\n",
    "                self.dfs(neighbor_name)\n",
    "    \n",
    "    def path_exist(self, s,t):\n",
    "        \"\"\"Returns true if they are in the same component\"\"\"\n",
    "        return  self.id[s] ==  self.id[t]\n",
    "                "
   ]
  },
  {
   "cell_type": "code",
   "execution_count": 107,
   "metadata": {},
   "outputs": [
    {
     "data": {
      "text/plain": [
       "{'1': ['0'],\n",
       " '0': ['5', '1', '2', '6'],\n",
       " '10': ['9'],\n",
       " '6': ['4', '0'],\n",
       " '8': ['7'],\n",
       " '2': ['0'],\n",
       " '12': ['9', '11'],\n",
       " '5': ['0', '4', '3'],\n",
       " '7': ['8'],\n",
       " '3': ['4', '5'],\n",
       " '9': ['12', '10', '11'],\n",
       " '11': ['12', '9'],\n",
       " '4': ['3', '6', '5']}"
      ]
     },
     "execution_count": 107,
     "metadata": {},
     "output_type": "execute_result"
    }
   ],
   "source": [
    "G.info()"
   ]
  },
  {
   "cell_type": "code",
   "execution_count": 108,
   "metadata": {},
   "outputs": [
    {
     "data": {
      "image/png": "[encoded data removed]",
      "text/plain": [
       "<Figure size 1152x576 with 1 Axes>"
      ]
     },
     "metadata": {},
     "output_type": "display_data"
    }
   ],
   "source": [
    "G.draw()"
   ]
  },
  {
   "cell_type": "code",
   "execution_count": 109,
   "metadata": {
    "collapsed": true
   },
   "outputs": [],
   "source": [
    "CC = ConnectedComponent(G)"
   ]
  },
  {
   "cell_type": "code",
   "execution_count": 110,
   "metadata": {},
   "outputs": [
    {
     "data": {
      "text/plain": [
       "{'1': 0,\n",
       " '0': 0,\n",
       " '5': 0,\n",
       " '4': 0,\n",
       " '3': 0,\n",
       " '6': 0,\n",
       " '2': 0,\n",
       " '10': 1,\n",
       " '9': 1,\n",
       " '12': 1,\n",
       " '11': 1,\n",
       " '8': 2,\n",
       " '7': 2}"
      ]
     },
     "execution_count": 110,
     "metadata": {},
     "output_type": "execute_result"
    }
   ],
   "source": [
    "CC.id"
   ]
  },
  {
   "cell_type": "markdown",
   "metadata": {},
   "source": [
    "# Questions\n",
    "Write the python code for\n",
    " - Find the number of components?\n",
    " - Is there a path from s to t?"
   ]
  },
  {
   "cell_type": "code",
   "execution_count": 111,
   "metadata": {},
   "outputs": [
    {
     "data": {
      "text/plain": [
       "3"
      ]
     },
     "execution_count": 111,
     "metadata": {},
     "output_type": "execute_result"
    }
   ],
   "source": [
    "CC.count # First Question"
   ]
  },
  {
   "cell_type": "code",
   "execution_count": 113,
   "metadata": {},
   "outputs": [
    {
     "data": {
      "text/plain": [
       "False"
      ]
     },
     "execution_count": 113,
     "metadata": {},
     "output_type": "execute_result"
    }
   ],
   "source": [
    "CC.path_exist(s = '7', t = '0') # Second Question"
   ]
  },
  {
   "cell_type": "code",
   "execution_count": null,
   "metadata": {
    "collapsed": true
   },
   "outputs": [],
   "source": []
  }
 ],
 "metadata": {
  "kernelspec": {
   "display_name": "Python 3",
   "language": "python",
   "name": "python3"
  },
  "language_info": {
   "codemirror_mode": {
    "name": "ipython",
    "version": 3
   },
   "file_extension": ".py",
   "mimetype": "text/x-python",
   "name": "python",
   "nbconvert_exporter": "python",
   "pygments_lexer": "ipython3",
   "version": "3.6.1"
  }
 },
 "nbformat": 4,
 "nbformat_minor": 2
}
