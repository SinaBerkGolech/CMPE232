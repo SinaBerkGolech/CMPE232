{
 "cells": [
  {
   "cell_type": "markdown",
   "metadata": {},
   "source": [
    "\n",
    "\n",
    "\n",
    "# Graph Processing\n",
    " - BFS, DFS, adjcaceny list, topological order, connected component\n",
    "![BFS.JPG](graph_processing.JPG)\n",
    "![BFS.JPG](Adjecency_list.JPG)\n",
    "![BFS.JPG](DFS2.JPG)\n",
    "![BFS.JPG](DFS.JPG)\n",
    "![BFS.JPG](BFS.JPG)\n",
    "![BFS.JPG](Topological_Order.JPG)\n",
    "\n",
    "\n",
    "# Shortest paths vs MSTs\n",
    "![BFS.JPG](edge_relax.JPG)\n",
    "\n",
    "### Prims algorithm\n",
    "![BFS.JPG](prim_SP1 .JPG)\n",
    "![BFS.JPG](prim _SP0.JPG)\n",
    "![BFS.JPG](prim_sp2.JPG)\n",
    "![BFS.JPG](prim_SP3.JPG)\n",
    "\n",
    "### Shortest paths vs MSTs\n",
    "![BFS.JPG](MSTvsSP1.jpg)\n",
    "![BFS.JPG](MSTvsSP.JPG)\n",
    "\n",
    "# String search\n",
    "![BFS.JPG](TST.JPG)\n",
    "![BFS.JPG](TRIE.JPG)\n",
    "![BFS.JPG](TRIE_ex.jpg)"
   ]
  },
  {
   "cell_type": "code",
   "execution_count": null,
   "metadata": {},
   "outputs": [],
   "source": []
  }
 ],
 "metadata": {
  "kernelspec": {
   "display_name": "Python 3",
   "language": "python",
   "name": "python3"
  },
  "language_info": {
   "codemirror_mode": {
    "name": "ipython",
    "version": 3
   },
   "file_extension": ".py",
   "mimetype": "text/x-python",
   "name": "python",
   "nbconvert_exporter": "python",
   "pygments_lexer": "ipython3",
   "version": "3.6.7"
  }
 },
 "nbformat": 4,
 "nbformat_minor": 2
}
